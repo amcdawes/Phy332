{
 "cells": [
  {
   "cell_type": "markdown",
   "metadata": {},
   "source": [
    "## Simple Harmonic Motion\n",
    "### Equations of motion\n",
    "### AMC Dawes\n",
    "*Based on https://flothesof.github.io/harmonic-oscillator-three-methods-solution.html* but with revisions and corrections."
   ]
  },
  {
   "cell_type": "code",
   "execution_count": 1,
   "metadata": {},
   "outputs": [],
   "source": [
    "# These add the sympy features, and tell the plotting library to show plots in the notebook\n",
    "import sympy\n",
    "%matplotlib inline"
   ]
  },
  {
   "cell_type": "code",
   "execution_count": 2,
   "metadata": {},
   "outputs": [],
   "source": [
    "# This makes sympy show you nicely formatted equations (using LaTeX)\n",
    "sympy.init_printing()"
   ]
  },
  {
   "cell_type": "code",
   "execution_count": 3,
   "metadata": {},
   "outputs": [],
   "source": [
    "# We need to tell sympy what letters are symbolic math, either constants or variables\n",
    "m, k, x_0, v_0, omega_0, t = sympy.symbols('m, k, x_0, v_0, omega_0, t')\n",
    "\n",
    "# and that x is actually a function x(t):\n",
    "x = sympy.Function('x')"
   ]
  },
  {
   "cell_type": "markdown",
   "metadata": {},
   "source": [
    "The equation we aim to solve is:\n",
    "$$\\frac{d^2x(t)}{dt^2} = - \\omega_0^2 x(t)$$ or:\n",
    "$$\\frac{d^2x(t)}{dt^2} + \\omega_0^2 x(t) = 0$$\n",
    "where the second form of the equation is how most computer algebra systems expect an equation to be entered."
   ]
  },
  {
   "cell_type": "code",
   "execution_count": 4,
   "metadata": {},
   "outputs": [],
   "source": [
    "# Define the equation we aim to solve:\n",
    "eqn = sympy.Derivative(x(t), t, 2) + omega_0**2 * x(t)"
   ]
  },
  {
   "cell_type": "code",
   "execution_count": 5,
   "metadata": {},
   "outputs": [
    {
     "data": {
      "image/png": "[encoded data removed]",
      "text/latex": [
       "$$x{\\left (t \\right )} = C_{1} e^{- i \\omega_{0} t} + C_{2} e^{i \\omega_{0} t}$$"
      ],
      "text/plain": [
       "           -ⅈ⋅ω₀⋅t       ⅈ⋅ω₀⋅t\n",
       "x(t) = C₁⋅ℯ        + C₂⋅ℯ      "
      ]
     },
     "execution_count": 5,
     "metadata": {},
     "output_type": "execute_result"
    }
   ],
   "source": [
    "# Solve using the dsolve function\n",
    "sol = sympy.dsolve(eqn)\n",
    "sol"
   ]
  },
  {
   "cell_type": "markdown",
   "metadata": {},
   "source": [
    "The initial conditions are defined by solutions at $t=0$. The trick here is to solve both the position equation: $x(t=0)$ and the velocity equation: $\\frac{dx}{dt}\\Big|_{(t=0)}$"
   ]
  },
  {
   "cell_type": "code",
   "execution_count": 8,
   "metadata": {},
   "outputs": [
    {
     "data": {
      "image/png": "[encoded data removed]",
      "text/latex": [
       "$$C_{1} e^{- i \\omega_{0} t} + C_{2} e^{i \\omega_{0} t}$$"
      ],
      "text/plain": [
       "    -ⅈ⋅ω₀⋅t       ⅈ⋅ω₀⋅t\n",
       "C₁⋅ℯ        + C₂⋅ℯ      "
      ]
     },
     "execution_count": 8,
     "metadata": {},
     "output_type": "execute_result"
    }
   ],
   "source": [
    "# The full position equation x(t):\n",
    "sol.args[1]"
   ]
  },
  {
   "cell_type": "code",
   "execution_count": 9,
   "metadata": {},
   "outputs": [
    {
     "data": {
      "image/png": "[encoded data removed]",
      "text/latex": [
       "$$- i C_{1} \\omega_{0} e^{- i \\omega_{0} t} + i C_{2} \\omega_{0} e^{i \\omega_{0} t}$$"
      ],
      "text/plain": [
       "           -ⅈ⋅ω₀⋅t            ⅈ⋅ω₀⋅t\n",
       "- ⅈ⋅C₁⋅ω₀⋅ℯ        + ⅈ⋅C₂⋅ω₀⋅ℯ      "
      ]
     },
     "execution_count": 9,
     "metadata": {},
     "output_type": "execute_result"
    }
   ],
   "source": [
    "# The derivative (i.e. velocity) equation:\n",
    "sol.args[1].diff(t)"
   ]
  },
  {
   "cell_type": "markdown",
   "metadata": {},
   "source": [
    "To solve for the initial conditions, substitute $t=0$ and solve for the initial position (`x_0`) and the initial velocity (`v_0`):"
   ]
  },
  {
   "cell_type": "code",
   "execution_count": 10,
   "metadata": {},
   "outputs": [
    {
     "data": {
      "image/png": "[encoded data removed]",
      "text/latex": [
       "$$\\left [ C_{1} + C_{2} = x_{0}, \\quad - i C_{1} \\omega_{0} + i C_{2} \\omega_{0} = v_{0}\\right ]$$"
      ],
      "text/plain": [
       "[C₁ + C₂ = x₀, -ⅈ⋅C₁⋅ω₀ + ⅈ⋅C₂⋅ω₀ = v₀]"
      ]
     },
     "execution_count": 10,
     "metadata": {},
     "output_type": "execute_result"
    }
   ],
   "source": [
    "ics = [sympy.Eq(sol.args[1].subs(t, 0), x_0), sympy.Eq(sol.args[1].diff(t).subs(t, 0), v_0)]\n",
    "ics"
   ]
  },
  {
   "cell_type": "code",
   "execution_count": 11,
   "metadata": {},
   "outputs": [
    {
     "data": {
      "image/png": "[encoded data removed]",
      "text/latex": [
       "$$\\left [ \\left \\{ C_{1} : \\frac{1}{2 \\omega_{0}} \\left(\\omega_{0} x_{0} + i v_{0}\\right), \\quad C_{2} : \\frac{1}{2 \\omega_{0}} \\left(\\omega_{0} x_{0} - i v_{0}\\right)\\right \\}\\right ]$$"
      ],
      "text/plain": [
       "⎡⎧    ω₀⋅x₀ + ⅈ⋅v₀      ω₀⋅x₀ - ⅈ⋅v₀⎫⎤\n",
       "⎢⎨C₁: ────────────, C₂: ────────────⎬⎥\n",
       "⎣⎩        2⋅ω₀              2⋅ω₀    ⎭⎦"
      ]
     },
     "execution_count": 11,
     "metadata": {},
     "output_type": "execute_result"
    }
   ],
   "source": [
    "solved_ics = sympy.solve(ics)\n",
    "solved_ics"
   ]
  },
  {
   "cell_type": "code",
   "execution_count": 12,
   "metadata": {},
   "outputs": [
    {
     "data": {
      "image/png": "[encoded data removed]",
      "text/latex": [
       "$$x{\\left (t \\right )} = \\frac{e^{i \\omega_{0} t}}{2 \\omega_{0}} \\left(\\omega_{0} x_{0} - i v_{0}\\right) + \\frac{e^{- i \\omega_{0} t}}{2 \\omega_{0}} \\left(\\omega_{0} x_{0} + i v_{0}\\right)$$"
      ],
      "text/plain": [
       "                       ⅈ⋅ω₀⋅t                   -ⅈ⋅ω₀⋅t\n",
       "       (ω₀⋅x₀ - ⅈ⋅v₀)⋅ℯ         (ω₀⋅x₀ + ⅈ⋅v₀)⋅ℯ       \n",
       "x(t) = ────────────────────── + ───────────────────────\n",
       "                2⋅ω₀                      2⋅ω₀         "
      ]
     },
     "execution_count": 12,
     "metadata": {},
     "output_type": "execute_result"
    }
   ],
   "source": [
    "full_sol = sol.subs(solved_ics[0])\n",
    "full_sol"
   ]
  },
  {
   "cell_type": "markdown",
   "metadata": {},
   "source": [
    "### It would be really nice if this simplified a bit!\n",
    "\n",
    "This is the most general solution, so picking some initial conditions may reveal a simpler form of the equation:"
   ]
  },
  {
   "cell_type": "code",
   "execution_count": 13,
   "metadata": {},
   "outputs": [
    {
     "data": {
      "image/png": "[encoded data removed]",
      "text/latex": [
       "$$x{\\left (t \\right )} = \\cos{\\left (t \\right )}$$"
      ],
      "text/plain": [
       "x(t) = cos(t)"
      ]
     },
     "execution_count": 13,
     "metadata": {},
     "output_type": "execute_result"
    }
   ],
   "source": [
    "# Start at x=1, but stopped:\n",
    "case1 = sympy.simplify(full_sol.subs({x_0:1, v_0:0, omega_0:1}))\n",
    "case1"
   ]
  },
  {
   "cell_type": "code",
   "execution_count": 14,
   "metadata": {},
   "outputs": [
    {
     "data": {
      "image/png": "[encoded data removed]",
      "text/plain": [
       "<Figure size 432x288 with 1 Axes>"
      ]
     },
     "metadata": {},
     "output_type": "display_data"
    },
    {
     "data": {
      "text/plain": [
       "<sympy.plotting.plot.Plot at 0x10a378518>"
      ]
     },
     "execution_count": 14,
     "metadata": {},
     "output_type": "execute_result"
    }
   ],
   "source": [
    "sympy.plot(case1.rhs)"
   ]
  },
  {
   "cell_type": "code",
   "execution_count": 15,
   "metadata": {},
   "outputs": [
    {
     "data": {
      "image/png": "[encoded data removed]",
      "text/latex": [
       "$$x{\\left (t \\right )} = - \\frac{i}{2} e^{i t} + \\frac{i}{2} e^{- i t}$$"
      ],
      "text/plain": [
       "            ⅈ⋅t      -ⅈ⋅t\n",
       "         ⅈ⋅ℯ      ⅈ⋅ℯ    \n",
       "x(t) = - ────── + ───────\n",
       "           2         2   "
      ]
     },
     "execution_count": 15,
     "metadata": {},
     "output_type": "execute_result"
    }
   ],
   "source": [
    "# start at x0 but moving to the positive-x direction:\n",
    "case2 = sympy.trigsimp(full_sol.subs({x_0:0, v_0:1, omega_0:1}))\n",
    "case2"
   ]
  },
  {
   "cell_type": "code",
   "execution_count": 16,
   "metadata": {},
   "outputs": [
    {
     "data": {
      "image/png": "[encoded data removed]",
      "text/plain": [
       "<Figure size 432x288 with 1 Axes>"
      ]
     },
     "metadata": {},
     "output_type": "display_data"
    },
    {
     "data": {
      "text/plain": [
       "<sympy.plotting.plot.Plot at 0x10a15d9e8>"
      ]
     },
     "execution_count": 16,
     "metadata": {},
     "output_type": "execute_result"
    }
   ],
   "source": [
    "sympy.plot(case2.rhs)"
   ]
  },
  {
   "cell_type": "markdown",
   "metadata": {},
   "source": [
    "### 1) Generate three additional cases that have different initial conditions. Describe the predicted motion, and discuss: does the resulting motion agree with your expectations? Consider how the parameters can change and explore a variety of options. "
   ]
  },
  {
   "cell_type": "markdown",
   "metadata": {},
   "source": [
    "### 2) How do the dynamics change if $\\omega_0$ changes?"
   ]
  },
  {
   "cell_type": "code",
   "execution_count": null,
   "metadata": {},
   "outputs": [],
   "source": []
  }
 ],
 "metadata": {
  "kernelspec": {
   "display_name": "Python 3",
   "language": "python",
   "name": "python3"
  },
  "language_info": {
   "codemirror_mode": {
    "name": "ipython",
    "version": 3
   },
   "file_extension": ".py",
   "mimetype": "text/x-python",
   "name": "python",
   "nbconvert_exporter": "python",
   "pygments_lexer": "ipython3",
   "version": "3.6.5"
  }
 },
 "nbformat": 4,
 "nbformat_minor": 2
}
