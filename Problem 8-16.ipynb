{
  "cells": [
    {
      "cell_type": "markdown",
      "source": [
        "# Problem 8.16\n",
        "This is a template to start the problem"
      ],
      "metadata": {}
    },
    {
      "cell_type": "code",
      "source": [
        "import numpy as np\n",
        "import matplotlib.pyplot as plt\n",
        "%matplotlib inline"
      ],
      "outputs": [],
      "execution_count": 1,
      "metadata": {}
    },
    {
      "cell_type": "markdown",
      "source": [
        "## Part A"
      ],
      "metadata": {}
    },
    {
      "cell_type": "code",
      "source": [
        "# Set the number of data points\n",
        "N = 1024\n",
        "\n",
        "# for 1024 points we have to count \"0\" so go up to, and including, 1023\n",
        "t, dt = np.linspace(0,1023,num=N,retstep=True)\n",
        "# make sure dt is 1 ms as stated in the problem\n",
        "print(\"dt = \", dt, \"ms\")"
      ],
      "outputs": [
        {
          "output_type": "stream",
          "name": "stdout",
          "text": [
            "dt =  1.0 ms\n"
          ]
        }
      ],
      "execution_count": 8,
      "metadata": {}
    },
    {
      "cell_type": "code",
      "source": [
        "# Define T and the sin function:\n",
        "T = 10.24\n",
        "y = np.sin(2*np.pi*t/T)"
      ],
      "outputs": [],
      "execution_count": 18,
      "metadata": {
        "collapsed": false,
        "outputHidden": false,
        "inputHidden": false
      }
    },
    {
      "cell_type": "code",
      "source": [
        "# lines with points to emphasize the discrete nature of the data\n",
        "plt.plot(t,y,\".-\")\n",
        "plt.ylabel(\"y(t)\")\n",
        "plt.xlabel(\"t\")"
      ],
      "outputs": [],
      "execution_count": null,
      "metadata": {}
    },
    {
      "cell_type": "code",
      "source": [
        "plt.semilogy(np.abs(np.fft.fft(y)))"
      ],
      "outputs": [],
      "execution_count": null,
      "metadata": {}
    },
    {
      "cell_type": "markdown",
      "source": [
        "## Part B"
      ],
      "metadata": {}
    },
    {
      "cell_type": "code",
      "source": [
        "# Change T as given in the problem (you need to calculate the right value)\n",
        "T = # TODO\n",
        "y = np.sin(2*np.pi*t/T)"
      ],
      "outputs": [],
      "execution_count": 21,
      "metadata": {
        "collapsed": false,
        "outputHidden": false,
        "inputHidden": false
      }
    },
    {
      "cell_type": "code",
      "source": [
        "# This is the way to plot a log scale for y:\n",
        "plt.semilogy(np.abs(np.fft.fft(y)))"
      ],
      "outputs": [],
      "execution_count": null,
      "metadata": {
        "collapsed": false,
        "outputHidden": false,
        "inputHidden": false
      }
    },
    {
      "cell_type": "markdown",
      "source": [
        "## Part C\n",
        "Define the Hanning window function and multiply by the y array"
      ],
      "metadata": {}
    },
    {
      "cell_type": "code",
      "source": [
        "hann = # TODO"
      ],
      "outputs": [],
      "execution_count": 28,
      "metadata": {}
    },
    {
      "cell_type": "code",
      "source": [
        "plt.plot(hann)"
      ],
      "outputs": [],
      "execution_count": null,
      "metadata": {
        "collapsed": false,
        "outputHidden": false,
        "inputHidden": false
      }
    },
    {
      "cell_type": "code",
      "source": [
        "plt.semilogy(   ) # TODO"
      ],
      "outputs": [],
      "execution_count": null,
      "metadata": {
        "collapsed": false,
        "outputHidden": false,
        "inputHidden": false
      }
    },
    {
      "cell_type": "code",
      "source": [
        "# Plot both together to compare:\n",
        "plt.semilogy(np.abs(np.fft.fft(y)),label=\"No Window\")\n",
        "plt.semilogy(np.abs(np.fft.fft(hann*y)), label=\"Hanning\")\n",
        "plt.legend()"
      ],
      "outputs": [],
      "execution_count": null,
      "metadata": {
        "collapsed": false,
        "outputHidden": false,
        "inputHidden": false
      }
    },
    {
      "cell_type": "markdown",
      "source": [
        "## Extra Credit:\n",
        "Play with a few other window functions. What specific feature makes the window function work?"
      ],
      "metadata": {
        "collapsed": false,
        "outputHidden": false,
        "inputHidden": false
      }
    }
  ],
  "metadata": {
    "kernelspec": {
      "name": "python3",
      "language": "python",
      "display_name": "Python 3"
    },
    "language_info": {
      "name": "python",
      "version": "3.6.6",
      "mimetype": "text/x-python",
      "codemirror_mode": {
        "name": "ipython",
        "version": 3
      },
      "pygments_lexer": "ipython3",
      "nbconvert_exporter": "python",
      "file_extension": ".py"
    },
    "kernel_info": {
      "name": "python3"
    },
    "nteract": {
      "version": "0.11.9"
    }
  },
  "nbformat": 4,
  "nbformat_minor": 2
}