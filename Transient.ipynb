{
 "cells": [
  {
   "cell_type": "code",
   "execution_count": 1,
   "metadata": {},
   "outputs": [],
   "source": [
    "%matplotlib inline\n",
    "from ipywidgets import interactive\n",
    "import matplotlib.pyplot as plt\n",
    "import numpy as np\n",
    "from scipy.interpolate import approximate_taylor_polynomial\n",
    "from scipy import sin, cos\n",
    "from numpy import linspace"
   ]
  },
  {
   "cell_type": "code",
   "execution_count": 2,
   "metadata": {},
   "outputs": [],
   "source": [
    "def transient(t, A0=2, gamma=1, omega_v=2, phi=0):\n",
    "    \"\"\"Functional form of the transient portion.\"\"\"\n",
    "    return A0*np.exp(-gamma/2*t)*np.cos(omega_v * t + phi)"
   ]
  },
  {
   "cell_type": "code",
   "execution_count": 3,
   "metadata": {},
   "outputs": [],
   "source": [
    "def steady(t, A=1, omega_d=2, delta=2):\n",
    "    \"\"\"Functionnal form of the steady state solution\"\"\"\n",
    "    return A*np.cos(omega_d*t - delta)"
   ]
  },
  {
   "cell_type": "code",
   "execution_count": 12,
   "metadata": {},
   "outputs": [],
   "source": [
    "def makeplot(A0, gamma, phi, omega_d):\n",
    "    \"\"\"Function called by interactive cell\"\"\"\n",
    "    scale = 0.5\n",
    "    plt.figure(2)\n",
    "    t = np.linspace(-1, 50, num=1000)\n",
    "    plt.plot(t,transient(t, A0=A0, gamma=gamma, phi=phi) + steady(t, omega_d=omega_d))\n",
    "    plt.ylim(-2,2)\n",
    "    plt.xtics=[]\n",
    "    plt.show()"
   ]
  },
  {
   "cell_type": "code",
   "execution_count": 13,
   "metadata": {},
   "outputs": [
    {
     "data": {
      "application/vnd.jupyter.widget-view+json": {
       "model_id": "c7c06915d6e7484e819f577dff15538b",
       "version_major": 2,
       "version_minor": 0
      },
      "text/plain": [
       "interactive(children=(FloatSlider(value=1.0, description='A0', max=2.0), FloatSlider(value=2.0, description='g…"
      ]
     },
     "metadata": {},
     "output_type": "display_data"
    }
   ],
   "source": [
    "interactive_plot = interactive(makeplot, A0=(0, 2.0), gamma=(0,5,0.1), omega_d=(0,5), phi=(0, 6, 0.5))\n",
    "output = interactive_plot.children[-1]\n",
    "output.layout.height = '350px'\n",
    "interactive_plot"
   ]
  },
  {
   "cell_type": "code",
   "execution_count": null,
   "metadata": {},
   "outputs": [],
   "source": []
  },
  {
   "cell_type": "code",
   "execution_count": null,
   "metadata": {},
   "outputs": [],
   "source": []
  }
 ],
 "metadata": {
  "kernelspec": {
   "display_name": "Python 3",
   "language": "python",
   "name": "python3"
  },
  "language_info": {
   "codemirror_mode": {
    "name": "ipython",
    "version": 3
   },
   "file_extension": ".py",
   "mimetype": "text/x-python",
   "name": "python",
   "nbconvert_exporter": "python",
   "pygments_lexer": "ipython3",
   "version": "3.6.5"
  }
 },
 "nbformat": 4,
 "nbformat_minor": 2
}
